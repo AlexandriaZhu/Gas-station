{
 "cells": [
  {
   "cell_type": "code",
   "execution_count": null,
   "id": "e1f547f1-230f-4ae5-875e-89c9fec12858",
   "metadata": {},
   "outputs": [],
   "source": [
    "# Import necessary libraries\n",
    "import numpy as np\n",
    "import pandas as pd\n",
    "import missingno as msno\n",
    "import matplotlib.pyplot as plt\n",
    "import seaborn as sns\n",
    "import math"
   ]
  },
  {
   "cell_type": "code",
   "execution_count": null,
   "id": "808a9937-7699-40dc-8ba2-c2f94767b5c4",
   "metadata": {},
   "outputs": [],
   "source": [
    "#load the datasets\n",
    "invoices = pd.read_csv('Invoices.csv')\n",
    "tanks = pd.read_csv('Tanks.csv')\n",
    "locations = pd.read_csv('Locations.csv')\n",
    "fuel_1 = pd.read_csv('Fuel_Level_Part_1.csv')\n",
    "fuel_2 = pd.read_csv('Fuel_Level_Part_2.csv')"
   ]
  },
  {
   "cell_type": "markdown",
   "id": "a48e6fd0-1f50-4830-8009-c514f89d1fe6",
   "metadata": {},
   "source": [
    "**Data Cleaning**"
   ]
  },
  {
   "cell_type": "code",
   "execution_count": null,
   "id": "15a5658b-3522-4c52-a9f5-60c773e9fc7b",
   "metadata": {},
   "outputs": [],
   "source": [
    "invoices.columns"
   ]
  },
  {
   "cell_type": "code",
   "execution_count": null,
   "id": "91842ed0-4e36-4c4f-a8e3-dd89cf52e9ed",
   "metadata": {},
   "outputs": [],
   "source": [
    "# Renaming invoices column names\n",
    "invoices= invoices.rename(columns={'Invoice Date': 'Invoice_date',\n",
    "                                    'Invoice ID': 'Invoice_ID',\n",
    "                                    'Invoice Gas Station Location': 'Station_location',\n",
    "                                    'Gross Purchase Cost': 'Gross_purchase_cost',\n",
    "                                    'Amount Purchased': 'Amount_purchased',\n",
    "                                    'Fuel Type': 'Fuel_type'})\n",
    "invoices.head()"
   ]
  },
  {
   "cell_type": "code",
   "execution_count": null,
   "id": "ee4fe302-e880-4199-8ebe-6cdbfcb87f3d",
   "metadata": {},
   "outputs": [],
   "source": [
    "tanks.columns"
   ]
  },
  {
   "cell_type": "code",
   "execution_count": null,
   "id": "82abd275-cc64-48e8-8f27-f2f5faeb1e72",
   "metadata": {},
   "outputs": [],
   "source": [
    "#renaming tanks column names \n",
    "tanks= tanks.rename(columns={'Tank ID': 'Tank_ID',\n",
    "                               'Tank Location': 'Station_location',\n",
    "                               'Tank Number':'Tank_number',\n",
    "                               'Tank Type': 'Tank_type',\n",
    "                               'Tank Capacity': 'Tank_capacity'})\n",
    "tanks.head()"
   ]
  },
  {
   "cell_type": "code",
   "execution_count": null,
   "id": "c0641f09-8c60-4c76-b37a-3933c0eb71dd",
   "metadata": {},
   "outputs": [],
   "source": [
    "#replace U with G\n",
    "tanks['Tank_type'] = tanks['Tank_type'].replace({'U': 'G'})\n",
    "\n",
    "tanks.head()"
   ]
  },
  {
   "cell_type": "code",
   "execution_count": null,
   "id": "afddf262-b6fe-4fb1-bbad-457903fea79e",
   "metadata": {},
   "outputs": [],
   "source": [
    "locations.columns"
   ]
  },
  {
   "cell_type": "code",
   "execution_count": null,
   "id": "6e4a16da-157e-43c8-98ec-16462fdbd667",
   "metadata": {},
   "outputs": [],
   "source": [
    "#renaming locations column names\n",
    "locations= locations.rename(columns={'Gas Station Location': 'Station_location',\n",
    "                                    'Gas Station Name': 'Station_name',\n",
    "                                    'Gas Station Address': 'Station_address',\n",
    "                                    'Gas Station Latitude': 'Station_latitude',\n",
    "                                    'Gas Station Longitude': 'Station_longitude'})\n",
    "locations.head()"
   ]
  },
  {
   "cell_type": "code",
   "execution_count": null,
   "id": "9600fc5e-a44c-4b38-8155-46b8cbfb5358",
   "metadata": {},
   "outputs": [],
   "source": [
    "fuel_1.columns"
   ]
  },
  {
   "cell_type": "code",
   "execution_count": null,
   "id": "992b3b87-e45c-47c1-96a8-0decc0017145",
   "metadata": {},
   "outputs": [],
   "source": [
    "#renaming fuel_1 column names \n",
    "fuel_1= fuel_1.rename(columns={'Tank ID': 'Tank_ID',\n",
    "                                'Fuel Level': 'Fuel_level',\n",
    "                                'Time stamp': 'Time_stamp'})\n",
    "fuel_1.head()"
   ]
  },
  {
   "cell_type": "code",
   "execution_count": null,
   "id": "9a352da8-cd6f-4440-a764-16bc2abbf0d9",
   "metadata": {},
   "outputs": [],
   "source": [
    "fuel_2.columns"
   ]
  },
  {
   "cell_type": "code",
   "execution_count": null,
   "id": "a451c2d5-ed17-47cc-b902-dd4d0238214b",
   "metadata": {},
   "outputs": [],
   "source": [
    "#Renaming fuel_2 column names\n",
    "fuel_2= fuel_2.rename(columns={'Tank ID': 'Tank_ID',\n",
    "                               'Fuel_Level' : 'Fuel_level',\n",
    "                               'Timestamp': 'Time_stamp'})\n",
    "fuel_2.head()"
   ]
  },
  {
   "cell_type": "code",
   "execution_count": null,
   "id": "9d0b9222-74f7-4687-b40c-0713fa6b2a29",
   "metadata": {},
   "outputs": [],
   "source": [
    "# Check for duplicates and drop them\n",
    "invoices.drop_duplicates(inplace=True)\n",
    "tanks.drop_duplicates(inplace=True)\n",
    "locations.drop_duplicates(inplace=True)\n",
    "fuel_1.drop_duplicates(inplace=True)\n",
    "fuel_2.drop_duplicates(inplace=True)"
   ]
  },
  {
   "cell_type": "code",
   "execution_count": null,
   "id": "37c611b2-4626-4b14-906d-8d2d27cb71de",
   "metadata": {},
   "outputs": [],
   "source": [
    "# Drop NaN values in fuel_1 and fuel_2 dataframes\n",
    "fuel_1.dropna(inplace=True)\n",
    "fuel_2.dropna(inplace=True)"
   ]
  },
  {
   "cell_type": "code",
   "execution_count": null,
   "id": "5985e71a-4131-4bb9-9a5b-f7d5db87a15b",
   "metadata": {},
   "outputs": [],
   "source": [
    "# Drop NaN values\n",
    "invoices.dropna(inplace=True)\n",
    "tanks.dropna(inplace=True)\n",
    "locations.dropna(inplace=True)"
   ]
  },
  {
   "cell_type": "code",
   "execution_count": null,
   "id": "f4c320b1-de94-4883-a49e-5f96f8831af6",
   "metadata": {},
   "outputs": [],
   "source": [
    "# Explore the data\n",
    "invoices.info()\n",
    "tanks.info()\n",
    "locations.info()\n",
    "fuel_1.info()\n",
    "fuel_2.info()"
   ]
  },
  {
   "cell_type": "markdown",
   "id": "c4d18734-95ff-4706-9020-9cc61ecc2ccc",
   "metadata": {},
   "source": [
    "**Merging dataframes**"
   ]
  },
  {
   "cell_type": "code",
   "execution_count": null,
   "id": "a0477262-a257-466f-a460-d58660277ea5",
   "metadata": {},
   "outputs": [],
   "source": [
    "# Merge the two fuel level files\n",
    "fuel_level = pd.concat([fuel_1, fuel_2])\n",
    "fuel_level.head()"
   ]
  },
  {
   "cell_type": "code",
   "execution_count": null,
   "id": "a3af7b9f-250b-48f4-bced-3ee4c00cba9d",
   "metadata": {},
   "outputs": [],
   "source": [
    "# Merge invoices and tanks dataframes to create inventory\n",
    "inventory = pd.merge(fuel_level, tanks, on='Tank_ID')\n",
    "invoices['Invoice_date'] = pd.to_datetime(invoices['Invoice_date'])\n",
    "inventory.head()"
   ]
  },
  {
   "cell_type": "markdown",
   "id": "f6f5b5f9-faca-4339-8fe2-08b93b4ec65c",
   "metadata": {},
   "source": [
    "**Data Exploration**"
   ]
  },
  {
   "cell_type": "code",
   "execution_count": null,
   "id": "4eadce5a-f9ae-4488-9fe8-237f31c150fb",
   "metadata": {},
   "outputs": [],
   "source": [
    "# Calculating the total volume of fuel purchased for each fuel type at each gas station\n",
    "fuel_purchased = invoices.groupby(['Station_location', 'Fuel_type'])['Amount_purchased'].sum().reset_index()\n",
    "fuel_purchased.head()"
   ]
  },
  {
   "cell_type": "code",
   "execution_count": null,
   "id": "86f96c26-d97f-4f11-8598-0d28d789f361",
   "metadata": {},
   "outputs": [],
   "source": [
    "# Check for outliers\n",
    "sns.boxplot(x=invoices[\"Amount_purchased\"])"
   ]
  },
  {
   "cell_type": "code",
   "execution_count": null,
   "id": "37cc3db9-96ff-4abe-999b-20b5493032c3",
   "metadata": {},
   "outputs": [],
   "source": [
    "plt.hist(invoices['Gross_purchase_cost'])\n",
    "plt.xlabel('Fuel Price')\n",
    "plt.ylabel('Frequency')\n",
    "plt.show()"
   ]
  },
  {
   "cell_type": "code",
   "execution_count": null,
   "id": "d88b1d7c-1093-4c1e-b6a4-37644179c356",
   "metadata": {},
   "outputs": [],
   "source": [
    "sns.heatmap(invoices.corr(), annot=True)\n",
    "plt.show()"
   ]
  },
  {
   "cell_type": "code",
   "execution_count": null,
   "id": "3327d821-466e-422b-b60c-9401a46b02a0",
   "metadata": {},
   "outputs": [],
   "source": [
    "# Calculate the frequency of replenishment and total fuel purchase for each tank location \n",
    "replenishment = invoices.groupby(['Station_location', 'Fuel_type']).agg(\n",
    "    {'Invoice_date': ['min', 'max', 'count'],\n",
    "     'Amount_purchased': 'sum',\n",
    "     'Gross_purchase_cost': 'sum'})\n",
    "replenishment.columns = ['Earliest_Transaction_Date', 'Latest_Transaction_Date', 'Replenishment_Frequency', \n",
    "                           'Total_Fuel_Purchased', 'Total_Cost']\n",
    "\n",
    "replenishment[['Earliest_Transaction_Date', 'Latest_Transaction_Date']] = replenishment[['Earliest_Transaction_Date', 'Latest_Transaction_Date']].apply(pd.to_datetime)\n",
    "replenishment['Transaction_Date_diff'] = replenishment.apply(lambda row: (row['Latest_Transaction_Date']- row['Earliest_Transaction_Date']).days, axis=1).astype(int)\n",
    "replenishment['Fuel_Purchased_perday']=replenishment['Total_Fuel_Purchased']/replenishment['Transaction_Date_diff']\n",
    "\n",
    "replenishment.reset_index(inplace=True)\n",
    "replenishment.head()"
   ]
  },
  {
   "cell_type": "code",
   "execution_count": null,
   "id": "fcace08e-2ed5-4aca-97b5-84f0d4c12100",
   "metadata": {},
   "outputs": [],
   "source": [
    "# sort the data by tank ID and timestamp\n",
    "fuel_level = fuel_level.sort_values(['Tank_ID', 'Time_stamp'])\n",
    "fuel_level.head()"
   ]
  },
  {
   "cell_type": "code",
   "execution_count": null,
   "id": "ec52eaf1-c3a9-4928-be93-f96e83436422",
   "metadata": {},
   "outputs": [],
   "source": [
    "# Create a data frame from a csv with monthly inflation rates of Canada from 2017-2019 found from Statistics Canada\n",
    "infl_rate = pd.read_csv('canada_infl.csv', skiprows= [0])\n",
    "infl_rate= infl_rate.rename(columns={'Canada': 'Month_year',\n",
    "                                     'Percent': 'Inflation_rate'})\n",
    "\n",
    "infl_rate['Month_year'] = pd.to_datetime(infl_rate['Month_year'], format='%y-%b')\n",
    "infl_rate['Month_year'] = infl_rate['Month_year'].dt.strftime('%Y-%m')\n",
    "infl_rate.head()"
   ]
  },
  {
   "cell_type": "code",
   "execution_count": null,
   "id": "baa46f7b-92ec-4f1e-99ed-86dca98778c4",
   "metadata": {},
   "outputs": [],
   "source": [
    "# Create a new column Month_year containg the month of and year of the invoices\n",
    "invoices['Month_year'] = invoices['Invoice_date'].dt.strftime('%Y-%m')\n",
    "invoices.dropna()"
   ]
  },
  {
   "cell_type": "code",
   "execution_count": null,
   "id": "9c3f5ff9-703a-4950-8849-c40c49434c0b",
   "metadata": {},
   "outputs": [],
   "source": [
    "# Merge the inflation dataframe with invoices to adjust the Gross Purchase Cost column for each invoice based on the inflation rate of the month it was purchased\n",
    "invoices_infl = pd.merge(invoices, infl_rate, on='Month_year')\n",
    "invoices_infl['Adjusted_fule_price'] = invoices_infl['Gross_purchase_cost'] /invoices_infl['Amount_purchased']/ (1 + invoices_infl['Inflation_rate'])\n",
    "invoices_infl.head()"
   ]
  },
  {
   "cell_type": "code",
   "execution_count": null,
   "id": "2857bcd3-bd6d-4f05-918b-ecf7ab50783d",
   "metadata": {},
   "outputs": [],
   "source": [
    "invoices_infl.dropna()"
   ]
  },
  {
   "cell_type": "code",
   "execution_count": null,
   "id": "9a589d7e-65a0-4567-9919-9465dc6eaf71",
   "metadata": {},
   "outputs": [],
   "source": [
    "#Overview of fule price in a week for each type in each location\n",
    "# Define the station locations and fuel types\n",
    "station_locations = range(1, 9)\n",
    "fuel_types = ['D', 'G']\n",
    "station_colors = ['red', 'orange', 'yellow', 'green', 'blue', 'purple', 'brown', 'gray']\n",
    "\n",
    "# Create a subplot for each fuel type\n",
    "fig, axes = plt.subplots(nrows=2, ncols=1, figsize=(16, 16))\n",
    "\n",
    "for i, fuel_type in enumerate(fuel_types):\n",
    "    ax = axes[i]\n",
    "    ax.set_title(fuel_type + ' Fuel')\n",
    "\n",
    "    for j, station_location in enumerate(station_locations):\n",
    "        # Filter the data for the current station location and fuel type\n",
    "        data = invoices_infl[(invoices_infl.Station_location == station_location) & (invoices_infl.Fuel_type == fuel_type)]\n",
    "        data_copy = data.copy()\n",
    "        data_copy['Weekday'] = data_copy['Invoice_date'].dt.weekday.map({0: 'Monday', 1: 'Tuesday', 2: 'Wednesday', 3: 'Thursday', 4: 'Friday', 5: 'Saturday', 6: 'Sunday'})\n",
    "\n",
    "        # Compute the mean adjusted fuel price for each weekday\n",
    "        mean_price = data_copy.groupby('Weekday')['Adjusted_fule_price'].mean()\n",
    "\n",
    "        # Plot the folding line chart for the current station location and fuel type\n",
    "        sns.lineplot(x=mean_price.index, y=mean_price.values, color=station_colors[j], label='Station ' + str(station_location), ax=ax)\n",
    "\n",
    "    # Set the axis labels\n",
    "    ax.set_xlabel('Weekday')\n",
    "    ax.set_ylabel('Adjusted Fuel Price')\n",
    "\n",
    "    # Add a legend to the plot\n",
    "    ax.legend()\n",
    "\n",
    "# Show the plot\n",
    "plt.show()"
   ]
  },
  {
   "cell_type": "code",
   "execution_count": null,
   "id": "f5eb58c2-5493-478a-9dae-d6828b739ad0",
   "metadata": {},
   "outputs": [],
   "source": [
    "# Tank capacity analysis\n",
    "tank_capacities = inventory.groupby(['Station_location', 'Tank_ID']).agg({'Tank_capacity': 'max'}).reset_index()\n",
    "average_fuel_volume = invoices.groupby(['Station_location']).agg({'Amount_purchased': 'mean'}).reset_index()\n",
    "merged_tank_data = pd.merge(tank_capacities, average_fuel_volume, on=['Station_location'])\n",
    "merged_tank_data['Utilization'] = merged_tank_data['Amount_purchased'] / merged_tank_data['Tank_capacity']\n",
    "sns.barplot(x='Station_location', y='Utilization', hue='Tank_ID', data=merged_tank_data)\n",
    "plt.legend(bbox_to_anchor=(1.05, 0.5), loc='center left')"
   ]
  },
  {
   "cell_type": "code",
   "execution_count": null,
   "id": "91af8c52-e415-4360-9335-3843df223135",
   "metadata": {},
   "outputs": [],
   "source": [
    "#Best day to order fuel\n",
    "invoices['Weekday'] = invoices['Invoice_date'].dt.weekday.map({0:'Monday', 1:'Tuesday', 2:'Wednesday', 3:'Thursday', 4:'Friday', 5:'Saturday', 6:'Sunday'})\n",
    "sns.boxplot(x='Weekday', y='Amount_purchased', data=invoices)"
   ]
  },
  {
   "cell_type": "markdown",
   "id": "d7f929ba-0ab4-49d9-b468-cae9e3453701",
   "metadata": {},
   "source": [
    "**Business Question: How to order to minimize the cost and maximize the discount?**"
   ]
  },
  {
   "cell_type": "code",
   "execution_count": null,
   "id": "b4ab1b9d-9c22-46cd-b0f2-d60c337d775f",
   "metadata": {},
   "outputs": [],
   "source": [
    "def optimal_replenishment(quantity):\n",
    "    if quantity < 15000:\n",
    "        discount = 0\n",
    "    elif 15000 <= quantity < 25000:\n",
    "        discount = 0.02\n",
    "    elif 25000 <= quantity < 40000:\n",
    "        discount = 0.03\n",
    "    else:\n",
    "        discount = 0.04\n",
    "    return discount\n"
   ]
  },
  {
   "cell_type": "code",
   "execution_count": null,
   "id": "eaacbde5-d9e3-4c2d-bef5-f9a164d05040",
   "metadata": {},
   "outputs": [],
   "source": [
    "def days_to_highest_discount(quantity):\n",
    "    if quantity < 25000:\n",
    "        days = (25000 - quantity) / quantity\n",
    "    elif quantity < 40000:\n",
    "        days = (40000 - quantity) / quantity\n",
    "    else:\n",
    "        days = 0\n",
    "    return days\n"
   ]
  },
  {
   "cell_type": "code",
   "execution_count": null,
   "id": "3518d2a2-23a6-401f-812d-31c0948b0fc8",
   "metadata": {},
   "outputs": [],
   "source": [
    "# Group the data by gas station, fuel type, and date, then sum the purchase quantities\n",
    "replenishment_data = invoices.groupby(['Station_location', 'Fuel_type', 'Invoice_date']).agg(\n",
    "    {'Amount_purchased': 'sum',\n",
    "     'Gross_purchase_cost': 'sum'})\n",
    "\n",
    "replenishment_data.reset_index(inplace=True)\n",
    "replenishment_data['Invoice_date'] = pd.to_datetime(replenishment_data['Invoice_date'])\n",
    "\n",
    "# Calculate the average number of days between replenishments for each gas station and fuel type\n",
    "replenishment_data['days_diff'] = replenishment_data.groupby(['Station_location', 'Fuel_type'])['Invoice_date'].diff().dt.days\n",
    "replenishment_frequency = replenishment_data.groupby(['Station_location', 'Fuel_type'])['days_diff'].mean().reset_index()\n",
    "\n",
    "# Calculate the average replenishment quantity for each gas station and fuel type\n",
    "replenishment_quantity = replenishment_data.groupby(['Station_location', 'Fuel_type'])['Amount_purchased'].mean().reset_index()\n",
    "\n",
    "# Merge replenishment frequency and quantity data\n",
    "replenishment_summary = pd.merge(replenishment_frequency, replenishment_quantity, on=['Station_location', 'Fuel_type'])\n",
    "\n",
    "# Apply the optimal_replenishment function to the average replenishment quantity\n",
    "replenishment_summary['discount'] = replenishment_summary['Amount_purchased'].apply(optimal_replenishment)\n",
    "\n",
    "# Calculate the total cost for each gas station and fuel type based on the optimal replenishment quantity\n",
    "replenishment_summary['total_cost'] = replenishment_summary['Amount_purchased'] * (1 - replenishment_summary['discount'])\n",
    "\n",
    "replenishment_summary['Days_to_highest_discount'] = replenishment_summary['Amount_purchased'].apply(days_to_highest_discount)\n",
    "\n",
    "replenishment_summary['Optimal_Frequency'] = replenishment_summary['days_diff'] / (1 + replenishment_summary['Days_to_highest_discount'])\n",
    "replenishment_summary['Potential_Improvement'] = (replenishment_summary['days_diff'] - replenishment_summary['Optimal_Frequency']) / replenishment_summary['days_diff']\n",
    "\n",
    "replenishment_summary.head()\n"
   ]
  },
  {
   "cell_type": "code",
   "execution_count": null,
   "id": "7482f491-eb58-4778-8dd1-15921a00304a",
   "metadata": {},
   "outputs": [],
   "source": [
    "# Print out the optimal replenishment frequency and potential improvement for each gas station and fuel type\n",
    "print(\"Optimal replenishment frequency and potential improvement:\")\n",
    "for index, row in replenishment_summary.iterrows():\n",
    "    station = row['Station_location']\n",
    "    fuel_type = row['Fuel_type']\n",
    "    frequency = round(row['Optimal_Frequency'], 2)\n",
    "    improvement = round(row['Potential_Improvement'] * 100, 2)\n",
    "\n",
    "    print(f\"For station {station} and fuel type {fuel_type}, \"\n",
    "          f\"the optimal replenishment frequency is {frequency} days \"\n",
    "          f\"with a potential improvement of {improvement}%.\")"
   ]
  },
  {
   "cell_type": "code",
   "execution_count": null,
   "id": "99e345e5-5d73-4d8e-b66b-084da79764f5",
   "metadata": {},
   "outputs": [],
   "source": [
    "# Best date value\n",
    "invoices['Weekday'] = invoices['Invoice_date'].dt.day_name()\n",
    "weekday_means = invoices.groupby('Weekday')['Amount_purchased'].mean().reset_index()\n",
    "weekday_means = weekday_means.sort_values('Amount_purchased', ascending=False)\n",
    "max_day_value = weekday_means.iloc[0]['Weekday']\n",
    "print(\"The day with highest average amount of fuel purchased is:\", max_day_value)"
   ]
  },
  {
   "cell_type": "markdown",
   "id": "fa3890d5-0c5e-4841-9cd7-b3e74631f3d8",
   "metadata": {},
   "source": [
    "**Business Question: What day to order?**"
   ]
  },
  {
   "cell_type": "code",
   "execution_count": null,
   "id": "eaf2418a-18a0-4a95-869e-a1eef5b88b6a",
   "metadata": {},
   "outputs": [],
   "source": [
    "# Best Date Price\n",
    "station_locations = range(1,9)  # List of station locations to consider\n",
    "fuel_types = ['D', 'G']  # List of fuel types to consider\n",
    "min_prices_D = float('inf')  # Initialize the lowest price for type D fuel to infinity\n",
    "min_prices_G = float('inf')  # Initialize the lowest price for type G fuel to infinity\n",
    "\n",
    "for i, station_location in enumerate(station_locations):\n",
    "    for j, fuel_type in enumerate(fuel_types):\n",
    "        # Filter the data for the current station location and fuel type\n",
    "        data = invoices_infl[(invoices_infl.Station_location == station_location) & (invoices_infl.Fuel_type == fuel_type)]\n",
    "        data_copy = data.copy()\n",
    "        data_copy['Weekday'] = data_copy['Invoice_date'].dt.weekday.map({0:'Monday', 1:'Tuesday', 2:'Wednesday', 3:'Thursday', 4:'Friday', 5:'Saturday', 6:'Sunday'})\n",
    "\n",
    "        weekday_means = data_copy.groupby('Weekday')['Adjusted_fule_price'].mean().reset_index()\n",
    "        weekday_means = weekday_means.sort_values('Adjusted_fule_price', ascending=True)\n",
    "        best_day_value = weekday_means.iloc[0]['Weekday']\n",
    "        best_day_price = weekday_means.iloc[0]['Adjusted_fule_price']\n",
    "        print(f\"The best date price of Type {fuel_type} fuel in the station {station_location} is {best_day_value} with a price of {best_day_price:.2f}\")\n",
    "        \n",
    "        min_price = weekday_means.iloc[0]['Adjusted_fule_price'].min()        \n",
    "        # Update the lowest price for the current fuel type\n",
    "        if fuel_type == 'D' and min_price < min_prices_D:\n",
    "            min_prices_D = min_price\n",
    "            min_price_D_date = best_day_value\n",
    "            min_price_D_station = station_location\n",
    "        elif fuel_type == 'G' and min_price < min_prices_G:\n",
    "            min_prices_G = min_price\n",
    "            min_price_G_date = best_day_value\n",
    "            min_price_G_station = station_location\n",
    "\n",
    "print(f\"The lowest price for type D fuel is {min_prices_D:.2f} in station {min_price_D_station} on {min_price_D_date}\")\n",
    "print(f\"The lowest price for type G fuel is {min_prices_G:.2f} in station {min_price_G_station} on {min_price_G_date}\")"
   ]
  },
  {
   "cell_type": "markdown",
   "id": "eaa5abb0-9217-4c2f-af04-add83fc56fa2",
   "metadata": {},
   "source": [
    "**Business Question: Identify which fuel stations would benefit most.**"
   ]
  },
  {
   "cell_type": "code",
   "execution_count": null,
   "id": "c103be68-97d2-4f7a-9a8f-aa7edc10a31c",
   "metadata": {},
   "outputs": [],
   "source": [
    "# Group inventory by station and date\n",
    "invoices_grouped = invoices.groupby(['Station_location', 'Invoice_date'])\n",
    "\n",
    "# Calculate total fuel purchased and total cost for each group\n",
    "total_fuel_purchased = invoices_grouped['Amount_purchased'].sum()\n",
    "total_cost = invoices_grouped['Gross_purchase_cost'].sum().round(2)\n",
    "\n",
    "# Calculate average fuel price for each group\n",
    "avg_price = (total_cost / total_fuel_purchased).round(2)\n",
    "\n",
    "\n",
    "# Calculate inventory change for each group\n",
    "inventory_change = invoices_grouped['Amount_purchased'].sum().diff().fillna(0)\n",
    "\n",
    "# Combine all results into a single DataFrame\n",
    "inventory_analysis = pd.DataFrame({'Total_fuel_purchased': total_fuel_purchased,\n",
    "                                   'Total_cost': total_cost,\n",
    "                                   'Average_price': avg_price,\n",
    "                                   'Inventory_change': inventory_change})\n",
    "\n",
    "# Print the first five rows of the analysis\n",
    "inventory_analysis.head()"
   ]
  },
  {
   "cell_type": "code",
   "execution_count": null,
   "id": "f72436d5-98f4-465c-84bb-8abe9dfd3d76",
   "metadata": {},
   "outputs": [],
   "source": [
    "# Calculate average daily fuel consumption for each gas station and fuel type\n",
    "daily_consumption = invoices.groupby(['Station_location', 'Fuel_type', 'Invoice_date'])['Amount_purchased'].sum().reset_index()\n",
    "daily_consumption['Day_of_Week'] = daily_consumption['Invoice_date'].dt.day_name()\n",
    "\n",
    "# Calculate average daily consumption for each gas station and fuel type\n",
    "daily_consumption['Avg_Daily_Consumption'] = daily_consumption.groupby(['Station_location', 'Fuel_type', 'Invoice_date'])['Amount_purchased'].transform('mean')\n",
    "\n",
    "# Calculate the daily change in consumption for each gas station and fuel type\n",
    "daily_consumption['Daily_Change'] = daily_consumption.groupby(['Station_location', 'Fuel_type'])['Avg_Daily_Consumption'].diff()\n",
    "\n",
    "daily_consumption.head()\n"
   ]
  },
  {
   "cell_type": "code",
   "execution_count": null,
   "id": "480c224a-3369-457e-a9a8-a67e3ccbf791",
   "metadata": {},
   "outputs": [],
   "source": [
    "# Calculate the potential savings using the optimal discount\n",
    "invoices['Potential_Cost'] = invoices['Amount_purchased'] * (1 - invoices['Amount_purchased'].apply(optimal_replenishment))\n",
    "invoices['Potential_Cost'] = invoices['Potential_Cost'].round(2)\n",
    "\n",
    "# Group the data by gas station and fuel type\n",
    "potential_savings = invoices.groupby(['Station_location', 'Fuel_type'])['Potential_Cost'].sum().reset_index()\n",
    "actual_cost = invoices.groupby(['Station_location', 'Fuel_type'])['Gross_purchase_cost'].sum().reset_index()\n",
    "\n",
    "# Merge the potential savings and actual cost\n",
    "performance_df = potential_savings.merge(actual_cost, on=['Station_location', 'Fuel_type'])\n",
    "\n",
    "# Calculate the actual savings and savings percentage\n",
    "performance_df['Actual_Savings'] = performance_df['Potential_Cost'] - performance_df['Gross_purchase_cost'].round(2)\n",
    "\n",
    "performance_df['Savings_Potential'] = performance_df['Gross_purchase_cost'] - performance_df['Potential_Cost']\n",
    "performance_df['Savings_Potential'] = performance_df['Savings_Potential'].round(2)\n",
    "\n",
    "performance_df['Savings_Percentage'] = (performance_df['Savings_Potential'] / performance_df['Potential_Cost']).round(2)\n",
    "performance_df.head()\n"
   ]
  },
  {
   "cell_type": "code",
   "execution_count": null,
   "id": "ba5ce386-e588-4316-9ee8-f1cc49973fbf",
   "metadata": {},
   "outputs": [],
   "source": [
    "print(\"Maximum Possible Savings:\")\n",
    "for index, row in performance_df.iterrows():\n",
    "    station = row['Station_location']\n",
    "    fuel_type = row['Fuel_type']\n",
    "    savings_potential = row['Savings_Potential']\n",
    "    savings_percentage = row['Savings_Percentage'] * 100  # Convert to percentage\n",
    "\n",
    "    print(f\"For station {station} and fuel type {fuel_type}, \"\n",
    "          f\"the maximum possible savings that could be achieved if the gas station always purchased fuel at the highest discount rate is up to ${savings_potential:.2f} \"\n",
    "          f\"in gross purchase costs per year. This would result in a {savings_percentage:.2f}% savings.\")\n"
   ]
  },
  {
   "cell_type": "code",
   "execution_count": null,
   "id": "2c9407c4-cbe0-4e2c-9181-26685374de9c",
   "metadata": {},
   "outputs": [],
   "source": [
    "#Identify which fuel station and which tank benefit most\n",
    "performance_df.sort_values(by='Savings_Percentage', axis=0, ascending=False, inplace=True)\n",
    "performance_grouped=performance_df.groupby(['Station_location'])[['Savings_Potential','Potential_Cost']].sum().reset_index()\n",
    "performance_grouped['Savings_Percentage']= (performance_grouped['Savings_Potential'] / performance_grouped['Potential_Cost'])  \n",
    "performance_grouped.sort_values(by='Savings_Percentage', axis=0, ascending=False, inplace=True)\n",
    "print(f'Fuel station {performance_df.Station_location[8]} type {performance_df.Fuel_type[8]} would benefit most, with {performance_df.Savings_Percentage[0]:.2f} percentage savings.')\n",
    "print(f'Fuel station {performance_grouped.Station_location[0]} would benefit most, with {performance_grouped.Savings_Percentage[0]:.2f} percentage savings.')\n",
    "print(performance_grouped.head())\n",
    "performance_df.head()"
   ]
  },
  {
   "cell_type": "markdown",
   "id": "19cb6e15-269d-48da-83a2-6b9f2a485d16",
   "metadata": {},
   "source": [
    "**Business Question: What is the optimal tank size? Should we increase the capacity of tank size?**"
   ]
  },
  {
   "cell_type": "code",
   "execution_count": null,
   "id": "2ab9a10b-efb1-422c-8e83-e2695e707215",
   "metadata": {},
   "outputs": [],
   "source": [
    "# Develop recommendations on tanks size\n",
    "def calculate_new_tank_size(utilization, current_tank_size, days_diff):\n",
    "    gallons_per_day = current_tank_size * utilization / days_diff\n",
    "\n",
    "    # Determine the optimal tank size based on the number of days between deliveries\n",
    "    return gallons_per_day * days_diff"
   ]
  },
  {
   "cell_type": "code",
   "execution_count": null,
   "id": "eb9db036-0584-4a1f-9d64-db3925f78317",
   "metadata": {},
   "outputs": [],
   "source": [
    "def generate_recommendations(recommendations_df):\n",
    "    recommendations = []\n",
    "    for index, row in recommendations_df.iterrows():\n",
    "        recommendation = f\"For station {row['Station_location']} and fuel type {row['Fuel_type']}, \"\n",
    "        recommendation += f\"switching to a {round(row['New_tank_size'],4)} gallon tank can save up to ${round(row['Savings_Potential'], 2)} in gross purchase costs per year. \"\n",
    "        recommendation += f\"This would result in a {round(row['Savings_Percentage']*100, 2)}% savings.\"\n",
    "        recommendations.append(recommendation)\n",
    "    return recommendations"
   ]
  },
  {
   "cell_type": "code",
   "execution_count": null,
   "id": "5aab789d-b235-494b-b793-77fb8307cbcc",
   "metadata": {},
   "outputs": [],
   "source": [
    "recommendations_df = performance_df.merge(tank_capacities.groupby(['Station_location'])['Tank_capacity'].mean().reset_index(), on='Station_location')\n",
    "recommendations_df['New_tank_size'] = merged_tank_data.apply(\n",
    "    lambda row: calculate_new_tank_size(row['Utilization'], row['Tank_capacity'],7), axis=1)\n",
    "# Sort recommendations by potential cost savings\n",
    "recommendations_df = recommendations_df.sort_values('Savings_Potential', ascending=False)"
   ]
  },
  {
   "cell_type": "code",
   "execution_count": null,
   "id": "e195ad1d-ccaa-431a-8c7f-aa0de835824e",
   "metadata": {},
   "outputs": [],
   "source": [
    "recommendations = generate_recommendations(recommendations_df)\n",
    "print(\"Recommended tank sizes:\")\n",
    "for recommendation in recommendations:\n",
    "    print(recommendation)"
   ]
  }
 ],
 "metadata": {
  "kernelspec": {
   "display_name": "Python 3 (ipykernel)",
   "language": "python",
   "name": "python3"
  },
  "language_info": {
   "codemirror_mode": {
    "name": "ipython",
    "version": 3
   },
   "file_extension": ".py",
   "mimetype": "text/x-python",
   "name": "python",
   "nbconvert_exporter": "python",
   "pygments_lexer": "ipython3",
   "version": "3.9.13"
  }
 },
 "nbformat": 4,
 "nbformat_minor": 5
}
